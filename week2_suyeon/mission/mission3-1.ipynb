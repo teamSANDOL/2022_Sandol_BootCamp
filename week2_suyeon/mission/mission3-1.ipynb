{
 "cells": [
  {
   "cell_type": "code",
   "execution_count": 1,
   "id": "46f29d97",
   "metadata": {},
   "outputs": [
    {
     "name": "stdout",
     "output_type": "stream",
     "text": [
      "2차전지기술(01)류지헌 Y\n",
      "3D프린팅(01)최근식 Y\n",
      "현장실습2(01)이희철 Y\n",
      "미적분학2(01)금교은 Y\n",
      "대학물리학2(01)류영선 Y\n",
      "공업수학1(01)강우석 Y\n",
      "열유체역학(01)김완수 Y\n",
      "현장프로젝트교과(파이썬을이용한데이터수집및스마트공장사례조사)(01)허재석 Y\n",
      "기초미디어프로그래밍(01)김한종 Y\n",
      "현장프로젝트교과(유니티게임엔진을활용한메타버스형식의교(01)이용희 Y\n"
     ]
    }
   ],
   "source": [
    "import requests\n",
    "from bs4 import BeautifulSoup\n",
    "\n",
    "url = r\"http://eclass.kpu.ac.kr/ilos/st/main/course_ing_list.acl\"\n",
    "def find():\n",
    "    header={\n",
    "            'Referer': \"http://eclass.kpu.ac.kr/ilos/main/main_form.acl\",\n",
    "            'user-agent': \"Mozilla/5.0 (Windows NT 10.0; Win64; x64) AppleWebKit/537.36 (KHTML, like Gecko) Chrome/97.0.4692.99 Safari/537.36 Edg/97.0.1072.76\"\n",
    "            }\n",
    "    req=requests.get(url,headers=header)\n",
    "\n",
    "    soup=BeautifulSoup(req.text,'html.parser')\n",
    "\n",
    "    tbody=soup.find(\"tbody\")\n",
    "\n",
    "\n",
    "    for i in tbody.find_all(\"td\",{\"class\":\"left\"}):\n",
    "        subject=i.get_text()  ##과목교수\n",
    "        yes=tbody.find_all(\"td\",{\"class\":\"name\"})[1].text ##수강가능 여부\n",
    "        print(f\"{subject} {yes}\")\n",
    "    \n",
    "\n",
    "find() "
   ]
  },
  {
   "cell_type": "code",
   "execution_count": null,
   "id": "8a3b2cf4",
   "metadata": {},
   "outputs": [],
   "source": []
  }
 ],
 "metadata": {
  "kernelspec": {
   "display_name": "Python 3",
   "language": "python",
   "name": "python3"
  },
  "language_info": {
   "codemirror_mode": {
    "name": "ipython",
    "version": 3
   },
   "file_extension": ".py",
   "mimetype": "text/x-python",
   "name": "python",
   "nbconvert_exporter": "python",
   "pygments_lexer": "ipython3",
   "version": "3.8.8"
  }
 },
 "nbformat": 4,
 "nbformat_minor": 5
}

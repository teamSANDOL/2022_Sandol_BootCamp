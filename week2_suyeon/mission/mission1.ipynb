{
 "cells": [
  {
   "cell_type": "code",
   "execution_count": 1,
   "id": "ad051eae",
   "metadata": {},
   "outputs": [
    {
     "name": "stdout",
     "output_type": "stream",
     "text": [
      "1 위 :  해적: 도깨비 깃발\n",
      "2 위 :  킹메이커\n",
      "3 위 :  스파이더맨: 노 웨이 홈\n",
      "4 위 :  경관의 피\n",
      "5 위 :  특송\n",
      "6 위 :  씽2게더\n",
      "7 위 :  하우스 오브 구찌\n",
      "8 위 :  나일 강의 죽음\n",
      "9 위 :  어나더 라운드\n",
      "10 위 :  극장판 안녕 자두야: 제주도의 비밀\n",
      "11 위 :  355\n",
      "12 위 :  드라이브 마이 카\n",
      "13 위 :  듄\n",
      "14 위 :  레지던트 이블: 라쿤시티\n",
      "15 위 :  킹스맨: 퍼스트 에이전트\n",
      "16 위 :  언차티드\n",
      "17 위 :  짬뽕비권\n",
      "18 위 :  수퍼모델\n",
      "19 위 :  강릉\n",
      "20 위 :  장민호 드라마 최종회\n",
      "21 위 :  모가디슈\n",
      "22 위 :  인질\n",
      "23 위 :  미싱타는 여자들\n",
      "24 위 :  나이트메어 앨리\n",
      "25 위 :  인어가 잠든 집\n",
      "26 위 :  싱크홀\n",
      "27 위 :  효자\n",
      "28 위 :  트로트는 인생이다\n",
      "29 위 :  동네사람들\n",
      "30 위 :  세자매\n",
      "31 위 :  아이스 로드\n",
      "32 위 :  고스트버스터즈\n",
      "33 위 :  창극 변강쇠 점 찍고 옹녀\n",
      "34 위 :  코다\n",
      "35 위 :  킬러의 보디가드 2: 킬러의 와이프\n",
      "36 위 :  이상존재\n",
      "37 위 :  프랑스\n",
      "38 위 :  미션 파서블\n",
      "39 위 :  삼진그룹 영어토익반\n",
      "40 위 :  단'ㅅ 패밀리 남바완\n",
      "41 위 :  캐시트럭\n",
      "42 위 :  담보\n",
      "43 위 :  블랙머니\n",
      "44 위 :  사자\n",
      "45 위 :  인민을 위해 복무하라\n",
      "46 위 :  두번할까요\n",
      "47 위 :  나의 촛불\n",
      "48 위 :  만년이 지나도 변하지 않는 게 있어\n",
      "49 위 :  더 배트맨\n",
      "50 위 :  엔드게임: 나는 킬러다\n"
     ]
    }
   ],
   "source": [
    "import requests\n",
    "from bs4 import BeautifulSoup\n",
    "\n",
    "url = r\"https://movie.naver.com/movie/sdb/rank/rmovie.naver\"\n",
    "header={\n",
    "        'Referer': \"http://eclass.kpu.ac.kr/ilos/main/main_form.acl\",\n",
    "        'user-agent': \"Mozilla/5.0 (Windows NT 10.0; Win64; x64) AppleWebKit/537.36 (KHTML, like Gecko) Chrome/97.0.4692.99 Safari/537.36 Edg/97.0.1072.76\"\n",
    "        }\n",
    "req=requests.get(url,headers=header)\n",
    "chart = []\n",
    "soup=BeautifulSoup(req.text,'html.parser')\n",
    "box=soup.find(\"div\",{\"class\":\"type_1\"})\n",
    "box1=box.find(\"table\",{\"class\":\"list_ranking\"})\n",
    "\n",
    "num =0\n",
    "\n",
    "for i in box1.find_all(\"div\"):\n",
    "    chart.append(i.get_text().strip())\n",
    "    print(num+1,\"위 : \",chart[num])\n",
    "    num=num+1\n",
    "\n",
    "   \n",
    "      \n"
   ]
  },
  {
   "cell_type": "code",
   "execution_count": null,
   "id": "7d4ba680",
   "metadata": {},
   "outputs": [],
   "source": []
  }
 ],
 "metadata": {
  "kernelspec": {
   "display_name": "Python 3",
   "language": "python",
   "name": "python3"
  },
  "language_info": {
   "codemirror_mode": {
    "name": "ipython",
    "version": 3
   },
   "file_extension": ".py",
   "mimetype": "text/x-python",
   "name": "python",
   "nbconvert_exporter": "python",
   "pygments_lexer": "ipython3",
   "version": "3.8.8"
  }
 },
 "nbformat": 4,
 "nbformat_minor": 5
}
